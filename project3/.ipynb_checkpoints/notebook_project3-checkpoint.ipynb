{
 "cells": [
  {
   "cell_type": "code",
   "execution_count": 9,
   "metadata": {},
   "outputs": [],
   "source": [
    "from pandas_datareader import data\n",
    "start_date = '2017-10-30'\n",
    "end_date = '2020-10-30'\n",
    "tickers = ['NVDA','MSCI','^FVX','^TNX','^GSPC']\n",
    "data = data.DataReader(tickers, 'yahoo', start_date, end_date)['Close']"
   ]
  },
  {
   "cell_type": "code",
   "execution_count": 10,
   "metadata": {},
   "outputs": [],
   "source": [
    "#data_month = data.asfreq('M', method='ffill')\n",
    "#data = data.resample('1M').mean()\n",
    "#data = data.pct_change()[1:]\n",
    "data = data.resample('1M').mean()\n",
    "#data[\"Rm-Rf\"] = data['Open']['MSCI'] - data['Open']['^TNX']\n",
    "#data[\"Ri-Rf\"] = data['Close']['NVDA'] - data['Close']['^TNX']\n",
    "#data[\"Rm-Rf\"] = data['Close']['MSCI'] - data['Close']['^TNX']\n",
    "#data.to_excel('data_return.xlsx', engine='xlsxwriter')"
   ]
  },
  {
   "cell_type": "code",
   "execution_count": 11,
   "metadata": {},
   "outputs": [
    {
     "data": {
      "text/html": [
       "<div>\n",
       "<style scoped>\n",
       "    .dataframe tbody tr th:only-of-type {\n",
       "        vertical-align: middle;\n",
       "    }\n",
       "\n",
       "    .dataframe tbody tr th {\n",
       "        vertical-align: top;\n",
       "    }\n",
       "\n",
       "    .dataframe thead th {\n",
       "        text-align: right;\n",
       "    }\n",
       "</style>\n",
       "<table border=\"1\" class=\"dataframe\">\n",
       "  <thead>\n",
       "    <tr style=\"text-align: right;\">\n",
       "      <th>Symbols</th>\n",
       "      <th>NVDA</th>\n",
       "      <th>MSCI</th>\n",
       "      <th>^FVX</th>\n",
       "      <th>^TNX</th>\n",
       "      <th>^GSPC</th>\n",
       "    </tr>\n",
       "    <tr>\n",
       "      <th>Date</th>\n",
       "      <th></th>\n",
       "      <th></th>\n",
       "      <th></th>\n",
       "      <th></th>\n",
       "      <th></th>\n",
       "    </tr>\n",
       "  </thead>\n",
       "  <tbody>\n",
       "    <tr>\n",
       "      <td>2017-11-30</td>\n",
       "      <td>0.024594</td>\n",
       "      <td>0.075991</td>\n",
       "      <td>2.047750</td>\n",
       "      <td>0.023548</td>\n",
       "      <td>0.007599</td>\n",
       "    </tr>\n",
       "    <tr>\n",
       "      <td>2017-12-31</td>\n",
       "      <td>-0.082112</td>\n",
       "      <td>0.008927</td>\n",
       "      <td>2.177650</td>\n",
       "      <td>0.024030</td>\n",
       "      <td>0.027273</td>\n",
       "    </tr>\n",
       "    <tr>\n",
       "      <td>2018-01-31</td>\n",
       "      <td>0.178345</td>\n",
       "      <td>0.064031</td>\n",
       "      <td>2.380095</td>\n",
       "      <td>0.025829</td>\n",
       "      <td>0.047090</td>\n",
       "    </tr>\n",
       "    <tr>\n",
       "      <td>2018-02-28</td>\n",
       "      <td>0.040291</td>\n",
       "      <td>0.044745</td>\n",
       "      <td>2.598105</td>\n",
       "      <td>0.028605</td>\n",
       "      <td>-0.030342</td>\n",
       "    </tr>\n",
       "    <tr>\n",
       "      <td>2018-03-31</td>\n",
       "      <td>0.017501</td>\n",
       "      <td>0.073778</td>\n",
       "      <td>2.628095</td>\n",
       "      <td>0.028433</td>\n",
       "      <td>-0.000880</td>\n",
       "    </tr>\n",
       "    <tr>\n",
       "      <td>2018-04-30</td>\n",
       "      <td>-0.061799</td>\n",
       "      <td>-0.025641</td>\n",
       "      <td>2.700000</td>\n",
       "      <td>0.028661</td>\n",
       "      <td>-0.018185</td>\n",
       "    </tr>\n",
       "    <tr>\n",
       "      <td>2018-05-31</td>\n",
       "      <td>0.090437</td>\n",
       "      <td>0.058661</td>\n",
       "      <td>2.815500</td>\n",
       "      <td>0.029781</td>\n",
       "      <td>0.018039</td>\n",
       "    </tr>\n",
       "    <tr>\n",
       "      <td>2018-06-30</td>\n",
       "      <td>0.040863</td>\n",
       "      <td>0.069014</td>\n",
       "      <td>2.774429</td>\n",
       "      <td>0.029133</td>\n",
       "      <td>0.019567</td>\n",
       "    </tr>\n",
       "    <tr>\n",
       "      <td>2018-07-31</td>\n",
       "      <td>-0.030411</td>\n",
       "      <td>0.011217</td>\n",
       "      <td>2.780900</td>\n",
       "      <td>0.028929</td>\n",
       "      <td>0.014265</td>\n",
       "    </tr>\n",
       "    <tr>\n",
       "      <td>2018-08-31</td>\n",
       "      <td>0.048890</td>\n",
       "      <td>0.020971</td>\n",
       "      <td>2.768304</td>\n",
       "      <td>0.028891</td>\n",
       "      <td>0.022973</td>\n",
       "    </tr>\n",
       "    <tr>\n",
       "      <td>2018-09-30</td>\n",
       "      <td>0.042494</td>\n",
       "      <td>0.028970</td>\n",
       "      <td>2.892579</td>\n",
       "      <td>0.030047</td>\n",
       "      <td>0.015284</td>\n",
       "    </tr>\n",
       "    <tr>\n",
       "      <td>2018-10-31</td>\n",
       "      <td>-0.117258</td>\n",
       "      <td>-0.113514</td>\n",
       "      <td>3.005652</td>\n",
       "      <td>0.031559</td>\n",
       "      <td>-0.039992</td>\n",
       "    </tr>\n",
       "    <tr>\n",
       "      <td>2018-11-30</td>\n",
       "      <td>-0.245066</td>\n",
       "      <td>-0.051320</td>\n",
       "      <td>2.953050</td>\n",
       "      <td>0.031219</td>\n",
       "      <td>-0.022342</td>\n",
       "    </tr>\n",
       "    <tr>\n",
       "      <td>2018-12-31</td>\n",
       "      <td>-0.207195</td>\n",
       "      <td>-0.016944</td>\n",
       "      <td>2.687056</td>\n",
       "      <td>0.028382</td>\n",
       "      <td>-0.057257</td>\n",
       "    </tr>\n",
       "    <tr>\n",
       "      <td>2019-01-31</td>\n",
       "      <td>0.009284</td>\n",
       "      <td>0.064889</td>\n",
       "      <td>2.535381</td>\n",
       "      <td>0.027073</td>\n",
       "      <td>0.015613</td>\n",
       "    </tr>\n",
       "    <tr>\n",
       "      <td>2019-02-28</td>\n",
       "      <td>0.056463</td>\n",
       "      <td>0.116535</td>\n",
       "      <td>2.488105</td>\n",
       "      <td>0.026756</td>\n",
       "      <td>0.056560</td>\n",
       "    </tr>\n",
       "    <tr>\n",
       "      <td>2019-03-31</td>\n",
       "      <td>0.092334</td>\n",
       "      <td>0.081944</td>\n",
       "      <td>2.373857</td>\n",
       "      <td>0.025709</td>\n",
       "      <td>0.017830</td>\n",
       "    </tr>\n",
       "    <tr>\n",
       "      <td>2019-04-30</td>\n",
       "      <td>0.118430</td>\n",
       "      <td>0.141796</td>\n",
       "      <td>2.332857</td>\n",
       "      <td>0.025300</td>\n",
       "      <td>0.035598</td>\n",
       "    </tr>\n",
       "    <tr>\n",
       "      <td>2019-05-31</td>\n",
       "      <td>-0.145253</td>\n",
       "      <td>0.027016</td>\n",
       "      <td>2.187000</td>\n",
       "      <td>0.023939</td>\n",
       "      <td>-0.016907</td>\n",
       "    </tr>\n",
       "    <tr>\n",
       "      <td>2019-06-30</td>\n",
       "      <td>-0.064325</td>\n",
       "      <td>0.052377</td>\n",
       "      <td>1.825150</td>\n",
       "      <td>0.020719</td>\n",
       "      <td>0.012422</td>\n",
       "    </tr>\n",
       "    <tr>\n",
       "      <td>2019-07-31</td>\n",
       "      <td>0.122362</td>\n",
       "      <td>0.019203</td>\n",
       "      <td>1.833000</td>\n",
       "      <td>0.020597</td>\n",
       "      <td>0.036658</td>\n",
       "    </tr>\n",
       "    <tr>\n",
       "      <td>2019-08-31</td>\n",
       "      <td>-0.045283</td>\n",
       "      <td>-0.051280</td>\n",
       "      <td>1.485000</td>\n",
       "      <td>0.016237</td>\n",
       "      <td>-0.032930</td>\n",
       "    </tr>\n",
       "    <tr>\n",
       "      <td>2019-09-30</td>\n",
       "      <td>0.105281</td>\n",
       "      <td>0.015155</td>\n",
       "      <td>1.561550</td>\n",
       "      <td>0.016934</td>\n",
       "      <td>0.029235</td>\n",
       "    </tr>\n",
       "    <tr>\n",
       "      <td>2019-10-31</td>\n",
       "      <td>0.075634</td>\n",
       "      <td>-0.030410</td>\n",
       "      <td>1.528391</td>\n",
       "      <td>0.017043</td>\n",
       "      <td>-0.001503</td>\n",
       "    </tr>\n",
       "    <tr>\n",
       "      <td>2019-11-30</td>\n",
       "      <td>0.104675</td>\n",
       "      <td>0.127593</td>\n",
       "      <td>1.645368</td>\n",
       "      <td>0.018196</td>\n",
       "      <td>0.042728</td>\n",
       "    </tr>\n",
       "    <tr>\n",
       "      <td>2019-12-31</td>\n",
       "      <td>0.066597</td>\n",
       "      <td>0.033617</td>\n",
       "      <td>1.680950</td>\n",
       "      <td>0.018595</td>\n",
       "      <td>0.023139</td>\n",
       "    </tr>\n",
       "    <tr>\n",
       "      <td>2020-01-31</td>\n",
       "      <td>0.089743</td>\n",
       "      <td>0.052865</td>\n",
       "      <td>1.562143</td>\n",
       "      <td>0.017543</td>\n",
       "      <td>0.031936</td>\n",
       "    </tr>\n",
       "    <tr>\n",
       "      <td>2020-02-29</td>\n",
       "      <td>0.106693</td>\n",
       "      <td>0.121341</td>\n",
       "      <td>1.325316</td>\n",
       "      <td>0.015016</td>\n",
       "      <td>-0.000271</td>\n",
       "    </tr>\n",
       "    <tr>\n",
       "      <td>2020-03-31</td>\n",
       "      <td>-0.101058</td>\n",
       "      <td>-0.111566</td>\n",
       "      <td>0.584409</td>\n",
       "      <td>0.008638</td>\n",
       "      <td>-0.190681</td>\n",
       "    </tr>\n",
       "    <tr>\n",
       "      <td>2020-04-30</td>\n",
       "      <td>0.137317</td>\n",
       "      <td>0.135163</td>\n",
       "      <td>0.384762</td>\n",
       "      <td>0.006522</td>\n",
       "      <td>0.041314</td>\n",
       "    </tr>\n",
       "    <tr>\n",
       "      <td>2020-05-31</td>\n",
       "      <td>0.181792</td>\n",
       "      <td>0.080202</td>\n",
       "      <td>0.339200</td>\n",
       "      <td>0.006736</td>\n",
       "      <td>0.057073</td>\n",
       "    </tr>\n",
       "    <tr>\n",
       "      <td>2020-06-30</td>\n",
       "      <td>0.113876</td>\n",
       "      <td>-0.020011</td>\n",
       "      <td>0.343227</td>\n",
       "      <td>0.007235</td>\n",
       "      <td>0.063383</td>\n",
       "    </tr>\n",
       "    <tr>\n",
       "      <td>2020-07-31</td>\n",
       "      <td>0.121853</td>\n",
       "      <td>0.139485</td>\n",
       "      <td>0.277545</td>\n",
       "      <td>0.006155</td>\n",
       "      <td>0.033162</td>\n",
       "    </tr>\n",
       "    <tr>\n",
       "      <td>2020-08-31</td>\n",
       "      <td>0.170980</td>\n",
       "      <td>-0.021811</td>\n",
       "      <td>0.267190</td>\n",
       "      <td>0.006448</td>\n",
       "      <td>0.057392</td>\n",
       "    </tr>\n",
       "    <tr>\n",
       "      <td>2020-09-30</td>\n",
       "      <td>0.066629</td>\n",
       "      <td>-0.038324</td>\n",
       "      <td>0.267000</td>\n",
       "      <td>0.006735</td>\n",
       "      <td>-0.007723</td>\n",
       "    </tr>\n",
       "    <tr>\n",
       "      <td>2020-10-31</td>\n",
       "      <td>0.061599</td>\n",
       "      <td>0.005253</td>\n",
       "      <td>0.332636</td>\n",
       "      <td>0.007737</td>\n",
       "      <td>0.015802</td>\n",
       "    </tr>\n",
       "  </tbody>\n",
       "</table>\n",
       "</div>"
      ],
      "text/plain": [
       "Symbols         NVDA      MSCI      ^FVX      ^TNX     ^GSPC\n",
       "Date                                                        \n",
       "2017-11-30  0.024594  0.075991  2.047750  0.023548  0.007599\n",
       "2017-12-31 -0.082112  0.008927  2.177650  0.024030  0.027273\n",
       "2018-01-31  0.178345  0.064031  2.380095  0.025829  0.047090\n",
       "2018-02-28  0.040291  0.044745  2.598105  0.028605 -0.030342\n",
       "2018-03-31  0.017501  0.073778  2.628095  0.028433 -0.000880\n",
       "2018-04-30 -0.061799 -0.025641  2.700000  0.028661 -0.018185\n",
       "2018-05-31  0.090437  0.058661  2.815500  0.029781  0.018039\n",
       "2018-06-30  0.040863  0.069014  2.774429  0.029133  0.019567\n",
       "2018-07-31 -0.030411  0.011217  2.780900  0.028929  0.014265\n",
       "2018-08-31  0.048890  0.020971  2.768304  0.028891  0.022973\n",
       "2018-09-30  0.042494  0.028970  2.892579  0.030047  0.015284\n",
       "2018-10-31 -0.117258 -0.113514  3.005652  0.031559 -0.039992\n",
       "2018-11-30 -0.245066 -0.051320  2.953050  0.031219 -0.022342\n",
       "2018-12-31 -0.207195 -0.016944  2.687056  0.028382 -0.057257\n",
       "2019-01-31  0.009284  0.064889  2.535381  0.027073  0.015613\n",
       "2019-02-28  0.056463  0.116535  2.488105  0.026756  0.056560\n",
       "2019-03-31  0.092334  0.081944  2.373857  0.025709  0.017830\n",
       "2019-04-30  0.118430  0.141796  2.332857  0.025300  0.035598\n",
       "2019-05-31 -0.145253  0.027016  2.187000  0.023939 -0.016907\n",
       "2019-06-30 -0.064325  0.052377  1.825150  0.020719  0.012422\n",
       "2019-07-31  0.122362  0.019203  1.833000  0.020597  0.036658\n",
       "2019-08-31 -0.045283 -0.051280  1.485000  0.016237 -0.032930\n",
       "2019-09-30  0.105281  0.015155  1.561550  0.016934  0.029235\n",
       "2019-10-31  0.075634 -0.030410  1.528391  0.017043 -0.001503\n",
       "2019-11-30  0.104675  0.127593  1.645368  0.018196  0.042728\n",
       "2019-12-31  0.066597  0.033617  1.680950  0.018595  0.023139\n",
       "2020-01-31  0.089743  0.052865  1.562143  0.017543  0.031936\n",
       "2020-02-29  0.106693  0.121341  1.325316  0.015016 -0.000271\n",
       "2020-03-31 -0.101058 -0.111566  0.584409  0.008638 -0.190681\n",
       "2020-04-30  0.137317  0.135163  0.384762  0.006522  0.041314\n",
       "2020-05-31  0.181792  0.080202  0.339200  0.006736  0.057073\n",
       "2020-06-30  0.113876 -0.020011  0.343227  0.007235  0.063383\n",
       "2020-07-31  0.121853  0.139485  0.277545  0.006155  0.033162\n",
       "2020-08-31  0.170980 -0.021811  0.267190  0.006448  0.057392\n",
       "2020-09-30  0.066629 -0.038324  0.267000  0.006735 -0.007723\n",
       "2020-10-31  0.061599  0.005253  0.332636  0.007737  0.015802"
      ]
     },
     "execution_count": 11,
     "metadata": {},
     "output_type": "execute_result"
    }
   ],
   "source": [
    "data['NVDA'] = data['NVDA'].pct_change()\n",
    "data['MSCI'] = data['MSCI'].pct_change()\n",
    "data['^GSPC'] = data['^GSPC'].pct_change()\n",
    "data['^TNX'] = data['^TNX']/100\n",
    "data = data.iloc[1:]\n",
    "data"
   ]
  },
  {
   "cell_type": "code",
   "execution_count": 14,
   "metadata": {},
   "outputs": [],
   "source": [
    "data[\"Rm-Rf\"] = data['^GSPC'] - data['^TNX']\n",
    "data[\"Ri-Rf\"] = data['NVDA'] - data['^TNX']"
   ]
  },
  {
   "cell_type": "code",
   "execution_count": null,
   "metadata": {},
   "outputs": [],
   "source": []
  },
  {
   "cell_type": "code",
   "execution_count": null,
   "metadata": {},
   "outputs": [],
   "source": []
  },
  {
   "cell_type": "code",
   "execution_count": 222,
   "metadata": {},
   "outputs": [
    {
     "data": {
      "text/plain": [
       "<matplotlib.axes._subplots.AxesSubplot at 0x1c24324950>"
      ]
     },
     "execution_count": 222,
     "metadata": {},
     "output_type": "execute_result"
    },
    {
     "data": {
      "image/png": "[encoded data removed]",
      "text/plain": [
       "<Figure size 432x288 with 1 Axes>"
      ]
     },
     "metadata": {
      "needs_background": "light"
     },
     "output_type": "display_data"
    }
   ],
   "source": [
    "from scipy.stats import mstats\n",
    "data[\"Ri-Rf\"] = mstats.winsorize(data[\"Ri-Rf\"], limits=[0.00, 0.01])\n",
    "data[\"Ri-Rf\"].plot()"
   ]
  },
  {
   "cell_type": "code",
   "execution_count": 223,
   "metadata": {},
   "outputs": [
    {
     "data": {
      "text/plain": [
       "<matplotlib.axes._subplots.AxesSubplot at 0x1c242b8f90>"
      ]
     },
     "execution_count": 223,
     "metadata": {},
     "output_type": "execute_result"
    },
    {
     "data": {
      "image/png": "[encoded data removed]",
      "text/plain": [
       "<Figure size 432x288 with 1 Axes>"
      ]
     },
     "metadata": {
      "needs_background": "light"
     },
     "output_type": "display_data"
    }
   ],
   "source": [
    "data_ri = data[\"Ri-Rf\"][data[\"Ri-Rf\"].between(data[\"Ri-Rf\"].quantile(.1), data[\"Ri-Rf\"].quantile(.90))]\n",
    "data_ri.plot()"
   ]
  },
  {
   "cell_type": "code",
   "execution_count": 218,
   "metadata": {},
   "outputs": [
    {
     "data": {
      "text/plain": [
       "<matplotlib.axes._subplots.AxesSubplot at 0x1c249c92d0>"
      ]
     },
     "execution_count": 218,
     "metadata": {},
     "output_type": "execute_result"
    },
    {
     "data": {
      "image/png": "[encoded data removed]",
      "text/plain": [
       "<Figure size 432x288 with 1 Axes>"
      ]
     },
     "metadata": {
      "needs_background": "light"
     },
     "output_type": "display_data"
    }
   ],
   "source": [
    "data[\"Rm-Rf\"] = mstats.winsorize(data[\"Rm-Rf\"], limits=[0.0, 0.05])\n",
    "data[\"Rm-Rf\"].plot()"
   ]
  },
  {
   "cell_type": "code",
   "execution_count": 224,
   "metadata": {},
   "outputs": [
    {
     "data": {
      "text/plain": [
       "<matplotlib.axes._subplots.AxesSubplot at 0x1c2497cad0>"
      ]
     },
     "execution_count": 224,
     "metadata": {},
     "output_type": "execute_result"
    },
    {
     "data": {
      "image/png": "[encoded data removed]",
      "text/plain": [
       "<Figure size 432x288 with 1 Axes>"
      ]
     },
     "metadata": {
      "needs_background": "light"
     },
     "output_type": "display_data"
    }
   ],
   "source": [
    "data_rm = data[\"Rm-Rf\"][data[\"Rm-Rf\"].between(data[\"Rm-Rf\"].quantile(.1), data[\"Rm-Rf\"].quantile(.90))]\n",
    "data_rm.plot()"
   ]
  },
  {
   "cell_type": "code",
   "execution_count": 25,
   "metadata": {},
   "outputs": [
    {
     "name": "stdout",
     "output_type": "stream",
     "text": [
      "                            OLS Regression Results                            \n",
      "==============================================================================\n",
      "Dep. Variable:                      y   R-squared:                       0.498\n",
      "Model:                            OLS   Adj. R-squared:                  0.483\n",
      "Method:                 Least Squares   F-statistic:                     33.73\n",
      "Date:                Wed, 25 Nov 2020   Prob (F-statistic):           1.53e-06\n",
      "Time:                        13:37:21   Log-Likelihood:                 41.595\n",
      "No. Observations:                  36   AIC:                            -79.19\n",
      "Df Residuals:                      34   BIC:                            -76.02\n",
      "Df Model:                           1                                         \n",
      "Covariance Type:            nonrobust                                         \n",
      "==============================================================================\n",
      "                 coef    std err          t      P>|t|      [0.025      0.975]\n",
      "------------------------------------------------------------------------------\n",
      "const          0.0316      0.013      2.343      0.025       0.004       0.059\n",
      "x1             1.6547      0.285      5.808      0.000       1.076       2.234\n",
      "==============================================================================\n",
      "Omnibus:                        5.459   Durbin-Watson:                   1.276\n",
      "Prob(Omnibus):                  0.065   Jarque-Bera (JB):                4.035\n",
      "Skew:                          -0.629   Prob(JB):                        0.133\n",
      "Kurtosis:                       4.053   Cond. No.                         21.8\n",
      "==============================================================================\n",
      "\n",
      "Warnings:\n",
      "[1] Standard Errors assume that the covariance matrix of the errors is correctly specified.\n"
     ]
    }
   ],
   "source": [
    "import statsmodels.api as sm\n",
    "from statsmodels import regression\n",
    "\n",
    "X = data[\"Rm-Rf\"].values\n",
    "#X = data['Open']['^GSPC'].values\n",
    "\n",
    "#Y = data['Open']['NVDA'].values\n",
    "Y= data[\"Ri-Rf\"].values\n",
    "\n",
    "X = sm.add_constant(X)\n",
    "model = sm.OLS(Y,X)\n",
    "results = regression.linear_model.OLS(Y,X).fit()\n",
    "print(results.summary())"
   ]
  },
  {
   "cell_type": "code",
   "execution_count": 27,
   "metadata": {},
   "outputs": [
    {
     "name": "stdout",
     "output_type": "stream",
     "text": [
      "[ 0.00519952  0.0369561   0.06677077 -0.06595093 -0.01691475 -0.04592568\n",
      "  0.01216051  0.01576095  0.00732444  0.02179637  0.00716174 -0.08680522\n",
      " -0.05703747 -0.11011833  0.01262695  0.0809079   0.01855366  0.04863049\n",
      " -0.03599741  0.01786044  0.05816716 -0.04976827  0.05194328  0.00090257\n",
      "  0.07218277  0.03910879  0.05540637  0.00629394 -0.29822513  0.08916166\n",
      "  0.11488311  0.12449787  0.07628066  0.11588834  0.00766716  0.04493654]\n"
     ]
    }
   ],
   "source": [
    "prediction = results.predict(X)\n",
    "print(prediction)"
   ]
  },
  {
   "cell_type": "code",
   "execution_count": 37,
   "metadata": {},
   "outputs": [
    {
     "data": {
      "image/png": "[encoded data removed]",
      "text/plain": [
       "<Figure size 432x288 with 1 Axes>"
      ]
     },
     "metadata": {
      "needs_background": "light"
     },
     "output_type": "display_data"
    }
   ],
   "source": [
    "import matplotlib.pyplot as plt\n",
    "import numpy as np\n",
    "value_reg = \"(Ri-Rf) = \"+ str(np.round(results.params[0],3))+\" + \"+str(np.round(results.params[1],3))+\" * (Rm-Rf)\"\n",
    "plt.scatter(data[\"Rm-Rf\"].values,data[\"Ri-Rf\"].values, label=\"data\")\n",
    "plt.plot(data[\"Rm-Rf\"].values,prediction, c=\"r\", label=value_reg)\n",
    "plt.axhline(0, color='black')\n",
    "plt.axvline(0, color='black')\n",
    "\n",
    "plt.legend(bbox_to_anchor=(1.05, 1), loc='upper left', borderaxespad=0.)\n",
    "\n",
    "plt.show()"
   ]
  },
  {
   "cell_type": "code",
   "execution_count": null,
   "metadata": {},
   "outputs": [],
   "source": []
  }
 ],
 "metadata": {
  "kernelspec": {
   "display_name": "Python 3",
   "language": "python",
   "name": "python3"
  },
  "language_info": {
   "codemirror_mode": {
    "name": "ipython",
    "version": 3
   },
   "file_extension": ".py",
   "mimetype": "text/x-python",
   "name": "python",
   "nbconvert_exporter": "python",
   "pygments_lexer": "ipython3",
   "version": "3.7.4"
  }
 },
 "nbformat": 4,
 "nbformat_minor": 2
}
